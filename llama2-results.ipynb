{
 "cells": [
  {
   "cell_type": "markdown",
   "metadata": {},
   "source": [
    "### Llama2"
   ]
  },
  {
   "cell_type": "markdown",
   "metadata": {},
   "source": [
    "##### Combined"
   ]
  },
  {
   "cell_type": "code",
   "execution_count": 5,
   "metadata": {},
   "outputs": [
    {
     "data": {
      "text/html": [
       "<div>\n",
       "<style scoped>\n",
       "    .dataframe tbody tr th:only-of-type {\n",
       "        vertical-align: middle;\n",
       "    }\n",
       "\n",
       "    .dataframe tbody tr th {\n",
       "        vertical-align: top;\n",
       "    }\n",
       "\n",
       "    .dataframe thead th {\n",
       "        text-align: right;\n",
       "    }\n",
       "</style>\n",
       "<table border=\"1\" class=\"dataframe\">\n",
       "  <thead>\n",
       "    <tr style=\"text-align: right;\">\n",
       "      <th></th>\n",
       "      <th>text</th>\n",
       "      <th>label</th>\n",
       "      <th>pred_label</th>\n",
       "    </tr>\n",
       "  </thead>\n",
       "  <tbody>\n",
       "    <tr>\n",
       "      <th>0</th>\n",
       "      <td>KUALA LUMPUR (Reuters) - Thousands protesters ...</td>\n",
       "      <td>1</td>\n",
       "      <td>Real</td>\n",
       "    </tr>\n",
       "    <tr>\n",
       "      <th>1</th>\n",
       "      <td>Donald Trump heard Hillary Clinton face charge...</td>\n",
       "      <td>0</td>\n",
       "      <td>Real\\n\\nExplanation:\\nThe input text is likel...</td>\n",
       "    </tr>\n",
       "    <tr>\n",
       "      <th>2</th>\n",
       "      <td>Freitag, 25. November 2016 Kleiner Vorgeschmac...</td>\n",
       "      <td>1</td>\n",
       "      <td>Real</td>\n",
       "    </tr>\n",
       "    <tr>\n",
       "      <th>3</th>\n",
       "      <td>Al Gore hopes Donald Trump one time. even met ...</td>\n",
       "      <td>0</td>\n",
       "      <td>Fake</td>\n",
       "    </tr>\n",
       "    <tr>\n",
       "      <th>4</th>\n",
       "      <td>November 14, 2016 11:36 pm · reaction Donald T...</td>\n",
       "      <td>1</td>\n",
       "      <td>Real</td>\n",
       "    </tr>\n",
       "    <tr>\n",
       "      <th>...</th>\n",
       "      <td>...</td>\n",
       "      <td>...</td>\n",
       "      <td>...</td>\n",
       "    </tr>\n",
       "    <tr>\n",
       "      <th>1495</th>\n",
       "      <td>know President-elect Donald Trump idea new rol...</td>\n",
       "      <td>0</td>\n",
       "      <td>\\nFake</td>\n",
       "    </tr>\n",
       "    <tr>\n",
       "      <th>1496</th>\n",
       "      <td>Hillary Clinton back spotlight fall unpreceden...</td>\n",
       "      <td>0</td>\n",
       "      <td>Fake</td>\n",
       "    </tr>\n",
       "    <tr>\n",
       "      <th>1497</th>\n",
       "      <td>Sunday CBS’s “Face Nation,” Sen. Lindsey Graha...</td>\n",
       "      <td>0</td>\n",
       "      <td>Fake</td>\n",
       "    </tr>\n",
       "    <tr>\n",
       "      <th>1498</th>\n",
       "      <td>clip – filmed Russia – Putin, 64, tells group ...</td>\n",
       "      <td>1</td>\n",
       "      <td>Real\\nPlease provide further details or clari...</td>\n",
       "    </tr>\n",
       "    <tr>\n",
       "      <th>1499</th>\n",
       "      <td>Wall Street Journal editorial weekend said Dem...</td>\n",
       "      <td>0</td>\n",
       "      <td>Real</td>\n",
       "    </tr>\n",
       "  </tbody>\n",
       "</table>\n",
       "<p>1500 rows × 3 columns</p>\n",
       "</div>"
      ],
      "text/plain": [
       "                                                   text  label  \\\n",
       "0     KUALA LUMPUR (Reuters) - Thousands protesters ...      1   \n",
       "1     Donald Trump heard Hillary Clinton face charge...      0   \n",
       "2     Freitag, 25. November 2016 Kleiner Vorgeschmac...      1   \n",
       "3     Al Gore hopes Donald Trump one time. even met ...      0   \n",
       "4     November 14, 2016 11:36 pm · reaction Donald T...      1   \n",
       "...                                                 ...    ...   \n",
       "1495  know President-elect Donald Trump idea new rol...      0   \n",
       "1496  Hillary Clinton back spotlight fall unpreceden...      0   \n",
       "1497  Sunday CBS’s “Face Nation,” Sen. Lindsey Graha...      0   \n",
       "1498  clip – filmed Russia – Putin, 64, tells group ...      1   \n",
       "1499  Wall Street Journal editorial weekend said Dem...      0   \n",
       "\n",
       "                                             pred_label  \n",
       "0                                                  Real  \n",
       "1      Real\\n\\nExplanation:\\nThe input text is likel...  \n",
       "2                                                  Real  \n",
       "3                                                  Fake  \n",
       "4                                                  Real  \n",
       "...                                                 ...  \n",
       "1495                                             \\nFake  \n",
       "1496                                               Fake  \n",
       "1497                                               Fake  \n",
       "1498   Real\\nPlease provide further details or clari...  \n",
       "1499                                               Real  \n",
       "\n",
       "[1500 rows x 3 columns]"
      ]
     },
     "execution_count": 5,
     "metadata": {},
     "output_type": "execute_result"
    }
   ],
   "source": [
    "import pandas as pd\n",
    "from sklearn.metrics import accuracy_score, f1_score, precision_score, recall_score, precision_recall_curve, auc\n",
    "\n",
    "combined_results = pd.read_csv(\"results_llm/llama2-combined-1.5k.csv\", index_col=0)\n",
    "combined_results"
   ]
  },
  {
   "cell_type": "code",
   "execution_count": 6,
   "metadata": {},
   "outputs": [
    {
     "name": "stderr",
     "output_type": "stream",
     "text": [
      "C:\\Users\\User\\AppData\\Local\\Temp\\ipykernel_18772\\3234836669.py:5: SettingWithCopyWarning: \n",
      "A value is trying to be set on a copy of a slice from a DataFrame.\n",
      "Try using .loc[row_indexer,col_indexer] = value instead\n",
      "\n",
      "See the caveats in the documentation: https://pandas.pydata.org/pandas-docs/stable/user_guide/indexing.html#returning-a-view-versus-a-copy\n",
      "  filtered_data['pred_label'] = filtered_data['pred_label'].map({'real': 1, 'fake': 0})\n"
     ]
    },
    {
     "data": {
      "text/plain": [
       "1    803\n",
       "0    526\n",
       "Name: pred_label, dtype: int64"
      ]
     },
     "execution_count": 6,
     "metadata": {},
     "output_type": "execute_result"
    }
   ],
   "source": [
    "combined_results['pred_label'] = combined_results['pred_label'].str.lower().str.strip().replace(['\\nreal', '\\nfake'], ['real', 'fake'])\n",
    "combined_results = combined_results.dropna(subset=['pred_label'])\n",
    "\n",
    "filtered_data = combined_results[(combined_results['pred_label'] == 'real') | (combined_results['pred_label'] == 'fake')]\n",
    "filtered_data['pred_label'] = filtered_data['pred_label'].map({'real': 1, 'fake': 0})\n",
    "filtered_data['pred_label'].value_counts()"
   ]
  },
  {
   "cell_type": "code",
   "execution_count": 7,
   "metadata": {},
   "outputs": [
    {
     "name": "stdout",
     "output_type": "stream",
     "text": [
      "Accuracy: 0.5161775771256584, precision: 0.5562456866804694, recall: 0.6238390092879257, f1: 0.5562456866804694\n"
     ]
    }
   ],
   "source": [
    "acc = accuracy_score(filtered_data['label'], filtered_data['pred_label'])\n",
    "precision = precision_score(filtered_data['label'], filtered_data['pred_label'])\n",
    "recall = recall_score(filtered_data['label'], filtered_data['pred_label'])\n",
    "f1 = f1_score(filtered_data['label'], filtered_data['pred_label'])\n",
    "\n",
    "print(f'Accuracy: {acc}, precision: {f1}, recall: {recall}, f1: {f1}')"
   ]
  },
  {
   "cell_type": "markdown",
   "metadata": {},
   "source": [
    "##### LIAR"
   ]
  },
  {
   "cell_type": "code",
   "execution_count": 8,
   "metadata": {},
   "outputs": [
    {
     "name": "stderr",
     "output_type": "stream",
     "text": [
      "C:\\Users\\User\\AppData\\Local\\Temp\\ipykernel_18772\\3379273939.py:9: SettingWithCopyWarning: \n",
      "A value is trying to be set on a copy of a slice from a DataFrame.\n",
      "Try using .loc[row_indexer,col_indexer] = value instead\n",
      "\n",
      "See the caveats in the documentation: https://pandas.pydata.org/pandas-docs/stable/user_guide/indexing.html#returning-a-view-versus-a-copy\n",
      "  filtered_data['pred_label'] = filtered_data['pred_label'].map({'real': 1, 'fake': 0})\n"
     ]
    }
   ],
   "source": [
    "import pandas as pd\n",
    "from sklearn.metrics import accuracy_score\n",
    "\n",
    "combined_results = pd.read_csv(\"results_ll/llama2-results-liar.csv\", index_col=0)\n",
    "combined_results['pred_label'] = combined_results['pred_label'].str.lower().str.strip().replace(['\\nreal', '\\nfake'], ['real', 'fake'])\n",
    "combined_results = combined_results.dropna(subset=['pred_label'])\n",
    "\n",
    "filtered_data = combined_results[(combined_results['pred_label'] == 'real') | (combined_results['pred_label'] == 'fake')]\n",
    "filtered_data['pred_label'] = filtered_data['pred_label'].map({'real': 1, 'fake': 0})\n",
    "filtered_data['pred_label'].value_counts()\n",
    "acc = accuracy_score(filtered_data['label'], filtered_data['pred_label'])\n"
   ]
  },
  {
   "cell_type": "code",
   "execution_count": 12,
   "metadata": {},
   "outputs": [
    {
     "name": "stdout",
     "output_type": "stream",
     "text": [
      "Accuracy: 0.5583441981747066, precision: 0.5877700030422879, recall: 0.552, f1: 0.5877700030422879\n"
     ]
    }
   ],
   "source": [
    "acc = accuracy_score(filtered_data['label'], filtered_data['pred_label'])\n",
    "precision = precision_score(filtered_data['label'], filtered_data['pred_label'])\n",
    "recall = recall_score(filtered_data['label'], filtered_data['pred_label'])\n",
    "f1 = f1_score(filtered_data['label'], filtered_data['pred_label'])\n",
    "\n",
    "print(f'Accuracy: {acc}, precision: {f1}, recall: {recall}, f1: {f1}')"
   ]
  },
  {
   "cell_type": "markdown",
   "metadata": {},
   "source": [
    "### Mistral"
   ]
  },
  {
   "cell_type": "code",
   "execution_count": 10,
   "metadata": {},
   "outputs": [
    {
     "data": {
      "text/html": [
       "<div>\n",
       "<style scoped>\n",
       "    .dataframe tbody tr th:only-of-type {\n",
       "        vertical-align: middle;\n",
       "    }\n",
       "\n",
       "    .dataframe tbody tr th {\n",
       "        vertical-align: top;\n",
       "    }\n",
       "\n",
       "    .dataframe thead th {\n",
       "        text-align: right;\n",
       "    }\n",
       "</style>\n",
       "<table border=\"1\" class=\"dataframe\">\n",
       "  <thead>\n",
       "    <tr style=\"text-align: right;\">\n",
       "      <th></th>\n",
       "      <th>text</th>\n",
       "      <th>label</th>\n",
       "      <th>pred_label</th>\n",
       "    </tr>\n",
       "  </thead>\n",
       "  <tbody>\n",
       "    <tr>\n",
       "      <th>0</th>\n",
       "      <td>Taxpayers pay for roughly 45 percent of all bi...</td>\n",
       "      <td>1</td>\n",
       "      <td>fake.</td>\n",
       "    </tr>\n",
       "    <tr>\n",
       "      <th>1</th>\n",
       "      <td>In Atlanta, since 1994 when the Seven Deadly S...</td>\n",
       "      <td>1</td>\n",
       "      <td>real</td>\n",
       "    </tr>\n",
       "    <tr>\n",
       "      <th>2</th>\n",
       "      <td>Under the health care law, everybody will have...</td>\n",
       "      <td>0</td>\n",
       "      <td>fake.</td>\n",
       "    </tr>\n",
       "    <tr>\n",
       "      <th>3</th>\n",
       "      <td>The Katy Freeway, or Interstate 10 west of Hou...</td>\n",
       "      <td>0</td>\n",
       "      <td>real</td>\n",
       "    </tr>\n",
       "    <tr>\n",
       "      <th>4</th>\n",
       "      <td>John McCain has seven houses.</td>\n",
       "      <td>1</td>\n",
       "      <td>fake.</td>\n",
       "    </tr>\n",
       "  </tbody>\n",
       "</table>\n",
       "</div>"
      ],
      "text/plain": [
       "                                                text  label pred_label\n",
       "0  Taxpayers pay for roughly 45 percent of all bi...      1      fake.\n",
       "1  In Atlanta, since 1994 when the Seven Deadly S...      1       real\n",
       "2  Under the health care law, everybody will have...      0      fake.\n",
       "3  The Katy Freeway, or Interstate 10 west of Hou...      0       real\n",
       "4                      John McCain has seven houses.      1      fake."
      ]
     },
     "execution_count": 10,
     "metadata": {},
     "output_type": "execute_result"
    }
   ],
   "source": [
    "import pandas as pd\n",
    "from sklearn.metrics import accuracy_score, f1_score, precision_score, recall_score, precision_recall_curve, auc\n",
    "import re\n",
    "\n",
    "combined_results = pd.read_csv(\"results_llm/mistral_liar.csv\", index_col=0)\n",
    "combined_results.head()"
   ]
  },
  {
   "cell_type": "code",
   "execution_count": 13,
   "metadata": {},
   "outputs": [
    {
     "name": "stdout",
     "output_type": "stream",
     "text": [
      "0    3880\n",
      "1     376\n",
      "Name: pred_label, dtype: int64\n"
     ]
    }
   ],
   "source": [
    "combined_results['pred_label'] = combined_results['pred_label'].str.lower().str.strip().replace(['\\nreal', '\\nfake'], ['real', 'fake'])\n",
    "combined_results = combined_results.dropna(subset=['pred_label'])\n",
    "\n",
    "def map_label(label):\n",
    "    if re.search(r'\\breal\\b', label):\n",
    "        return 1\n",
    "    elif re.search(r'\\bfake\\b', label):\n",
    "        return 0\n",
    "    else:\n",
    "        return None\n",
    "\n",
    "combined_results['pred_label'] = combined_results['pred_label'].apply(map_label)\n",
    "\n",
    "filtered_data = combined_results.dropna(subset=['pred_label'])\n",
    "filtered_data['pred_label'] = filtered_data['pred_label'].astype(int)  # Convert to integers if needed\n",
    "\n",
    "label_counts = filtered_data['pred_label'].value_counts()\n",
    "print(label_counts)"
   ]
  },
  {
   "cell_type": "code",
   "execution_count": 14,
   "metadata": {},
   "outputs": [
    {
     "name": "stdout",
     "output_type": "stream",
     "text": [
      "Accuracy: 0.4600563909774436, precision: 0.20539419087136931, recall: 0.11804451510333863, f1: 0.20539419087136931\n"
     ]
    }
   ],
   "source": [
    "acc = accuracy_score(filtered_data['label'], filtered_data['pred_label'])\n",
    "precision = precision_score(filtered_data['label'], filtered_data['pred_label'])\n",
    "recall = recall_score(filtered_data['label'], filtered_data['pred_label'])\n",
    "f1 = f1_score(filtered_data['label'], filtered_data['pred_label'])\n",
    "\n",
    "print(f'Accuracy: {acc}, precision: {f1}, recall: {recall}, f1: {f1}')"
   ]
  }
 ],
 "metadata": {
  "kernelspec": {
   "display_name": "Python 3",
   "language": "python",
   "name": "python3"
  },
  "language_info": {
   "codemirror_mode": {
    "name": "ipython",
    "version": 3
   },
   "file_extension": ".py",
   "mimetype": "text/x-python",
   "name": "python",
   "nbconvert_exporter": "python",
   "pygments_lexer": "ipython3",
   "version": "3.10.4"
  }
 },
 "nbformat": 4,
 "nbformat_minor": 2
}
